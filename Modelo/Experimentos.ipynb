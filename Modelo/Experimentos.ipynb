{
  "nbformat": 4,
  "nbformat_minor": 0,
  "metadata": {
    "colab": {
      "provenance": []
    },
    "kernelspec": {
      "name": "python3",
      "display_name": "Python 3"
    },
    "language_info": {
      "name": "python"
    }
  },
  "cells": [
    {
      "cell_type": "markdown",
      "source": [
        "Modelo"
      ],
      "metadata": {
        "id": "fGMA7H7X6CC6"
      }
    },
    {
      "cell_type": "code",
      "source": [
        "#!pip install wandb"
      ],
      "metadata": {
        "id": "asJjP4Yr6yjJ"
      },
      "execution_count": 1,
      "outputs": []
    },
    {
      "cell_type": "code",
      "source": [
        "!pip install category_encoders"
      ],
      "metadata": {
        "colab": {
          "base_uri": "https://localhost:8080/"
        },
        "id": "sYyue0Fl67YS",
        "outputId": "ea0cc876-e3cc-49e8-8b7c-2d6f89f5034c"
      },
      "execution_count": 6,
      "outputs": [
        {
          "output_type": "stream",
          "name": "stdout",
          "text": [
            "Collecting category_encoders\n",
            "  Downloading category_encoders-2.8.1-py3-none-any.whl.metadata (7.9 kB)\n",
            "Requirement already satisfied: numpy>=1.14.0 in /usr/local/lib/python3.11/dist-packages (from category_encoders) (2.0.2)\n",
            "Requirement already satisfied: pandas>=1.0.5 in /usr/local/lib/python3.11/dist-packages (from category_encoders) (2.2.2)\n",
            "Requirement already satisfied: patsy>=0.5.1 in /usr/local/lib/python3.11/dist-packages (from category_encoders) (1.0.1)\n",
            "Requirement already satisfied: scikit-learn>=1.6.0 in /usr/local/lib/python3.11/dist-packages (from category_encoders) (1.6.1)\n",
            "Requirement already satisfied: scipy>=1.0.0 in /usr/local/lib/python3.11/dist-packages (from category_encoders) (1.15.3)\n",
            "Requirement already satisfied: statsmodels>=0.9.0 in /usr/local/lib/python3.11/dist-packages (from category_encoders) (0.14.4)\n",
            "Requirement already satisfied: python-dateutil>=2.8.2 in /usr/local/lib/python3.11/dist-packages (from pandas>=1.0.5->category_encoders) (2.9.0.post0)\n",
            "Requirement already satisfied: pytz>=2020.1 in /usr/local/lib/python3.11/dist-packages (from pandas>=1.0.5->category_encoders) (2025.2)\n",
            "Requirement already satisfied: tzdata>=2022.7 in /usr/local/lib/python3.11/dist-packages (from pandas>=1.0.5->category_encoders) (2025.2)\n",
            "Requirement already satisfied: joblib>=1.2.0 in /usr/local/lib/python3.11/dist-packages (from scikit-learn>=1.6.0->category_encoders) (1.5.1)\n",
            "Requirement already satisfied: threadpoolctl>=3.1.0 in /usr/local/lib/python3.11/dist-packages (from scikit-learn>=1.6.0->category_encoders) (3.6.0)\n",
            "Requirement already satisfied: packaging>=21.3 in /usr/local/lib/python3.11/dist-packages (from statsmodels>=0.9.0->category_encoders) (24.2)\n",
            "Requirement already satisfied: six>=1.5 in /usr/local/lib/python3.11/dist-packages (from python-dateutil>=2.8.2->pandas>=1.0.5->category_encoders) (1.17.0)\n",
            "Downloading category_encoders-2.8.1-py3-none-any.whl (85 kB)\n",
            "\u001b[2K   \u001b[90m━━━━━━━━━━━━━━━━━━━━━━━━━━━━━━━━━━━━━━━━\u001b[0m \u001b[32m85.7/85.7 kB\u001b[0m \u001b[31m4.6 MB/s\u001b[0m eta \u001b[36m0:00:00\u001b[0m\n",
            "\u001b[?25hInstalling collected packages: category_encoders\n",
            "Successfully installed category_encoders-2.8.1\n"
          ]
        }
      ]
    },
    {
      "cell_type": "code",
      "source": [
        "import wandb\n",
        "wandb.login()  # Pegá tu API Key desde https://wandb.ai/authorize"
      ],
      "metadata": {
        "colab": {
          "base_uri": "https://localhost:8080/"
        },
        "id": "0F2CCEfv6ylY",
        "outputId": "8b8a9684-dda4-4e8a-df6d-ff325eee1bed"
      },
      "execution_count": 3,
      "outputs": [
        {
          "output_type": "execute_result",
          "data": {
            "text/plain": [
              "True"
            ]
          },
          "metadata": {},
          "execution_count": 3
        }
      ]
    },
    {
      "cell_type": "code",
      "source": [
        "#!pip install category_encoders wandb scikit-learn pandas matplotlib\n",
        "\n"
      ],
      "metadata": {
        "id": "9fRSvsgl6ynZ"
      },
      "execution_count": null,
      "outputs": []
    },
    {
      "cell_type": "code",
      "source": [
        "from google.colab import files\n",
        "uploaded = files.upload()"
      ],
      "metadata": {
        "colab": {
          "base_uri": "https://localhost:8080/",
          "height": 71
        },
        "id": "QLKBhudeAMTo",
        "outputId": "ec3a3730-c934-47fe-8d0e-2339ecac9866"
      },
      "execution_count": 4,
      "outputs": [
        {
          "output_type": "display_data",
          "data": {
            "text/plain": [
              "<IPython.core.display.HTML object>"
            ],
            "text/html": [
              "\n",
              "     <input type=\"file\" id=\"files-bed8cbcd-b0b2-4cf4-bb51-79d9c47c14d4\" name=\"files[]\" multiple disabled\n",
              "        style=\"border:none\" />\n",
              "     <output id=\"result-bed8cbcd-b0b2-4cf4-bb51-79d9c47c14d4\">\n",
              "      Upload widget is only available when the cell has been executed in the\n",
              "      current browser session. Please rerun this cell to enable.\n",
              "      </output>\n",
              "      <script>// Copyright 2017 Google LLC\n",
              "//\n",
              "// Licensed under the Apache License, Version 2.0 (the \"License\");\n",
              "// you may not use this file except in compliance with the License.\n",
              "// You may obtain a copy of the License at\n",
              "//\n",
              "//      http://www.apache.org/licenses/LICENSE-2.0\n",
              "//\n",
              "// Unless required by applicable law or agreed to in writing, software\n",
              "// distributed under the License is distributed on an \"AS IS\" BASIS,\n",
              "// WITHOUT WARRANTIES OR CONDITIONS OF ANY KIND, either express or implied.\n",
              "// See the License for the specific language governing permissions and\n",
              "// limitations under the License.\n",
              "\n",
              "/**\n",
              " * @fileoverview Helpers for google.colab Python module.\n",
              " */\n",
              "(function(scope) {\n",
              "function span(text, styleAttributes = {}) {\n",
              "  const element = document.createElement('span');\n",
              "  element.textContent = text;\n",
              "  for (const key of Object.keys(styleAttributes)) {\n",
              "    element.style[key] = styleAttributes[key];\n",
              "  }\n",
              "  return element;\n",
              "}\n",
              "\n",
              "// Max number of bytes which will be uploaded at a time.\n",
              "const MAX_PAYLOAD_SIZE = 100 * 1024;\n",
              "\n",
              "function _uploadFiles(inputId, outputId) {\n",
              "  const steps = uploadFilesStep(inputId, outputId);\n",
              "  const outputElement = document.getElementById(outputId);\n",
              "  // Cache steps on the outputElement to make it available for the next call\n",
              "  // to uploadFilesContinue from Python.\n",
              "  outputElement.steps = steps;\n",
              "\n",
              "  return _uploadFilesContinue(outputId);\n",
              "}\n",
              "\n",
              "// This is roughly an async generator (not supported in the browser yet),\n",
              "// where there are multiple asynchronous steps and the Python side is going\n",
              "// to poll for completion of each step.\n",
              "// This uses a Promise to block the python side on completion of each step,\n",
              "// then passes the result of the previous step as the input to the next step.\n",
              "function _uploadFilesContinue(outputId) {\n",
              "  const outputElement = document.getElementById(outputId);\n",
              "  const steps = outputElement.steps;\n",
              "\n",
              "  const next = steps.next(outputElement.lastPromiseValue);\n",
              "  return Promise.resolve(next.value.promise).then((value) => {\n",
              "    // Cache the last promise value to make it available to the next\n",
              "    // step of the generator.\n",
              "    outputElement.lastPromiseValue = value;\n",
              "    return next.value.response;\n",
              "  });\n",
              "}\n",
              "\n",
              "/**\n",
              " * Generator function which is called between each async step of the upload\n",
              " * process.\n",
              " * @param {string} inputId Element ID of the input file picker element.\n",
              " * @param {string} outputId Element ID of the output display.\n",
              " * @return {!Iterable<!Object>} Iterable of next steps.\n",
              " */\n",
              "function* uploadFilesStep(inputId, outputId) {\n",
              "  const inputElement = document.getElementById(inputId);\n",
              "  inputElement.disabled = false;\n",
              "\n",
              "  const outputElement = document.getElementById(outputId);\n",
              "  outputElement.innerHTML = '';\n",
              "\n",
              "  const pickedPromise = new Promise((resolve) => {\n",
              "    inputElement.addEventListener('change', (e) => {\n",
              "      resolve(e.target.files);\n",
              "    });\n",
              "  });\n",
              "\n",
              "  const cancel = document.createElement('button');\n",
              "  inputElement.parentElement.appendChild(cancel);\n",
              "  cancel.textContent = 'Cancel upload';\n",
              "  const cancelPromise = new Promise((resolve) => {\n",
              "    cancel.onclick = () => {\n",
              "      resolve(null);\n",
              "    };\n",
              "  });\n",
              "\n",
              "  // Wait for the user to pick the files.\n",
              "  const files = yield {\n",
              "    promise: Promise.race([pickedPromise, cancelPromise]),\n",
              "    response: {\n",
              "      action: 'starting',\n",
              "    }\n",
              "  };\n",
              "\n",
              "  cancel.remove();\n",
              "\n",
              "  // Disable the input element since further picks are not allowed.\n",
              "  inputElement.disabled = true;\n",
              "\n",
              "  if (!files) {\n",
              "    return {\n",
              "      response: {\n",
              "        action: 'complete',\n",
              "      }\n",
              "    };\n",
              "  }\n",
              "\n",
              "  for (const file of files) {\n",
              "    const li = document.createElement('li');\n",
              "    li.append(span(file.name, {fontWeight: 'bold'}));\n",
              "    li.append(span(\n",
              "        `(${file.type || 'n/a'}) - ${file.size} bytes, ` +\n",
              "        `last modified: ${\n",
              "            file.lastModifiedDate ? file.lastModifiedDate.toLocaleDateString() :\n",
              "                                    'n/a'} - `));\n",
              "    const percent = span('0% done');\n",
              "    li.appendChild(percent);\n",
              "\n",
              "    outputElement.appendChild(li);\n",
              "\n",
              "    const fileDataPromise = new Promise((resolve) => {\n",
              "      const reader = new FileReader();\n",
              "      reader.onload = (e) => {\n",
              "        resolve(e.target.result);\n",
              "      };\n",
              "      reader.readAsArrayBuffer(file);\n",
              "    });\n",
              "    // Wait for the data to be ready.\n",
              "    let fileData = yield {\n",
              "      promise: fileDataPromise,\n",
              "      response: {\n",
              "        action: 'continue',\n",
              "      }\n",
              "    };\n",
              "\n",
              "    // Use a chunked sending to avoid message size limits. See b/62115660.\n",
              "    let position = 0;\n",
              "    do {\n",
              "      const length = Math.min(fileData.byteLength - position, MAX_PAYLOAD_SIZE);\n",
              "      const chunk = new Uint8Array(fileData, position, length);\n",
              "      position += length;\n",
              "\n",
              "      const base64 = btoa(String.fromCharCode.apply(null, chunk));\n",
              "      yield {\n",
              "        response: {\n",
              "          action: 'append',\n",
              "          file: file.name,\n",
              "          data: base64,\n",
              "        },\n",
              "      };\n",
              "\n",
              "      let percentDone = fileData.byteLength === 0 ?\n",
              "          100 :\n",
              "          Math.round((position / fileData.byteLength) * 100);\n",
              "      percent.textContent = `${percentDone}% done`;\n",
              "\n",
              "    } while (position < fileData.byteLength);\n",
              "  }\n",
              "\n",
              "  // All done.\n",
              "  yield {\n",
              "    response: {\n",
              "      action: 'complete',\n",
              "    }\n",
              "  };\n",
              "}\n",
              "\n",
              "scope.google = scope.google || {};\n",
              "scope.google.colab = scope.google.colab || {};\n",
              "scope.google.colab._files = {\n",
              "  _uploadFiles,\n",
              "  _uploadFilesContinue,\n",
              "};\n",
              "})(self);\n",
              "</script> "
            ]
          },
          "metadata": {}
        },
        {
          "output_type": "stream",
          "name": "stdout",
          "text": [
            "Saving inmuebles_clean.csv to inmuebles_clean.csv\n"
          ]
        }
      ]
    },
    {
      "cell_type": "code",
      "source": [
        "import pandas as pd\n",
        "import numpy as np\n",
        "from sklearn.model_selection import train_test_split, StratifiedKFold\n",
        "from sklearn.ensemble import RandomForestClassifier\n",
        "from sklearn.metrics import (\n",
        "    classification_report,\n",
        "    accuracy_score,\n",
        "    precision_score,\n",
        "    recall_score,\n",
        "    f1_score\n",
        ")\n",
        "from category_encoders import TargetEncoder\n",
        "import wandb\n",
        "import wandb.sklearn\n",
        "\n",
        "# 1. Cargar datos\n",
        "df = pd.read_csv(\"inmuebles_clean.csv\")\n",
        "\n",
        "# 2. Separar X, y\n",
        "X = df.drop(\"franja_precio\", axis=1)\n",
        "y = df[\"franja_precio\"]\n",
        "\n",
        "# 3. Dividir en Train/Test (80/20)\n",
        "X_train, X_test, y_train, y_test = train_test_split(\n",
        "    X, y, test_size=0.2, random_state=42, stratify=y\n",
        ")\n",
        "\n",
        "# 4. Configuración W&B\n",
        "wandb.init(project=\"modelo_inmuebles\", name=\"RF_con_kfold\", reinit=True)\n",
        "\n",
        "# 5. KFold + Entrenamiento\n",
        "skf = StratifiedKFold(n_splits=5, shuffle=True, random_state=42)\n",
        "fold = 0\n",
        "reports = []\n",
        "\n",
        "for train_idx, val_idx in skf.split(X_train, y_train):\n",
        "    fold += 1\n",
        "    print(f\"\\n📂 Fold {fold}\")\n",
        "\n",
        "    X_tr, X_val = X_train.iloc[train_idx], X_train.iloc[val_idx]\n",
        "    y_tr, y_val = y_train.iloc[train_idx], y_train.iloc[val_idx]\n",
        "\n",
        "    # 6. Target Encoding solo en entrenamiento (para 'barrio')\n",
        "    encoder = TargetEncoder(cols=[\"barrio\"])\n",
        "    encoder.fit(X_tr, y_tr)\n",
        "    X_tr_enc = encoder.transform(X_tr)\n",
        "    X_val_enc = encoder.transform(X_val)\n",
        "    X_test_enc = encoder.transform(X_test)  # También transformamos test ahora\n",
        "\n",
        "    # 7. Modelo\n",
        "    clf = RandomForestClassifier(n_estimators=100, random_state=42)\n",
        "    clf.fit(X_tr_enc, y_tr)\n",
        "    preds = clf.predict(X_val_enc)\n",
        "\n",
        "    # 8. Métricas\n",
        "    report = classification_report(y_val, preds, output_dict=True)\n",
        "    print(classification_report(y_val, preds))\n",
        "    reports.append(report)\n",
        "\n",
        "    # Log W&B por fold\n",
        "    wandb.log({\n",
        "        f\"fold_{fold}_accuracy\": report[\"accuracy\"],\n",
        "        f\"fold_{fold}_precision\": report[\"weighted avg\"][\"precision\"],\n",
        "        f\"fold_{fold}_recall\": report[\"weighted avg\"][\"recall\"],\n",
        "        f\"fold_{fold}_f1\": report[\"weighted avg\"][\"f1-score\"]\n",
        "    })\n",
        "\n",
        "# 9. Entrenar en todo el X_train y predecir en Test\n",
        "encoder.fit(X_train, y_train)\n",
        "X_train_enc = encoder.transform(X_train)\n",
        "X_test_enc = encoder.transform(X_test)\n",
        "\n",
        "final_model = RandomForestClassifier(n_estimators=100, random_state=42)\n",
        "final_model.fit(X_train_enc, y_train)\n",
        "final_preds = final_model.predict(X_test_enc)\n",
        "final_probas = final_model.predict_proba(X_test_enc)\n",
        "labels = final_model.classes_\n",
        "\n",
        "print(\"\\n🔍 Evaluación Final en Test:\")\n",
        "print(classification_report(y_test, final_preds))\n",
        "\n",
        "# 10. Log manual de métricas finales en W&B\n",
        "wandb.log({\n",
        "    \"final_accuracy\": accuracy_score(y_test, final_preds),\n",
        "    \"final_precision\": precision_score(y_test, final_preds, average='weighted'),\n",
        "    \"final_recall\": recall_score(y_test, final_preds, average='weighted'),\n",
        "    \"final_f1\": f1_score(y_test, final_preds, average='weighted')\n",
        "})\n",
        "\n",
        "# 11. Matriz de confusión (funciona bien)\n",
        "wandb.sklearn.plot_confusion_matrix(y_test, final_preds, labels=labels)\n",
        "\n",
        "# 12. Finalizar sesión\n",
        "wandb.finish()\n"
      ],
      "metadata": {
        "colab": {
          "base_uri": "https://localhost:8080/",
          "height": 1000
        },
        "id": "SjSKFrtNABPZ",
        "outputId": "7e0401e3-054e-404c-c4cc-8094f00b633b"
      },
      "execution_count": 7,
      "outputs": [
        {
          "output_type": "stream",
          "name": "stderr",
          "text": [
            "\u001b[34m\u001b[1mwandb\u001b[0m: \u001b[33mWARNING\u001b[0m Using a boolean value for 'reinit' is deprecated. Use 'return_previous' or 'finish_previous' instead.\n"
          ]
        },
        {
          "output_type": "display_data",
          "data": {
            "text/plain": [
              "<IPython.core.display.HTML object>"
            ],
            "text/html": [
              "Tracking run with wandb version 0.20.1"
            ]
          },
          "metadata": {}
        },
        {
          "output_type": "display_data",
          "data": {
            "text/plain": [
              "<IPython.core.display.HTML object>"
            ],
            "text/html": [
              "Run data is saved locally in <code>/content/wandb/run-20250706_132805-3jurb7t8</code>"
            ]
          },
          "metadata": {}
        },
        {
          "output_type": "display_data",
          "data": {
            "text/plain": [
              "<IPython.core.display.HTML object>"
            ],
            "text/html": [
              "Syncing run <strong><a href='https://wandb.ai/jifernandezsandar-ort/modelo_inmuebles/runs/3jurb7t8' target=\"_blank\">RF_con_kfold</a></strong> to <a href='https://wandb.ai/jifernandezsandar-ort/modelo_inmuebles' target=\"_blank\">Weights & Biases</a> (<a href='https://wandb.me/developer-guide' target=\"_blank\">docs</a>)<br>"
            ]
          },
          "metadata": {}
        },
        {
          "output_type": "display_data",
          "data": {
            "text/plain": [
              "<IPython.core.display.HTML object>"
            ],
            "text/html": [
              " View project at <a href='https://wandb.ai/jifernandezsandar-ort/modelo_inmuebles' target=\"_blank\">https://wandb.ai/jifernandezsandar-ort/modelo_inmuebles</a>"
            ]
          },
          "metadata": {}
        },
        {
          "output_type": "display_data",
          "data": {
            "text/plain": [
              "<IPython.core.display.HTML object>"
            ],
            "text/html": [
              " View run at <a href='https://wandb.ai/jifernandezsandar-ort/modelo_inmuebles/runs/3jurb7t8' target=\"_blank\">https://wandb.ai/jifernandezsandar-ort/modelo_inmuebles/runs/3jurb7t8</a>"
            ]
          },
          "metadata": {}
        },
        {
          "output_type": "stream",
          "name": "stdout",
          "text": [
            "\n",
            "📂 Fold 1\n",
            "              precision    recall  f1-score   support\n",
            "\n",
            "        alto       0.98      0.99      0.99       106\n",
            "        bajo       0.99      0.99      0.99       107\n",
            "       medio       0.98      0.97      0.98       107\n",
            "\n",
            "    accuracy                           0.98       320\n",
            "   macro avg       0.98      0.98      0.98       320\n",
            "weighted avg       0.98      0.98      0.98       320\n",
            "\n",
            "\n",
            "📂 Fold 2\n",
            "              precision    recall  f1-score   support\n",
            "\n",
            "        alto       0.99      0.95      0.97       106\n",
            "        bajo       0.96      1.00      0.98       107\n",
            "       medio       0.98      0.97      0.98       107\n",
            "\n",
            "    accuracy                           0.97       320\n",
            "   macro avg       0.98      0.97      0.97       320\n",
            "weighted avg       0.98      0.97      0.97       320\n",
            "\n",
            "\n",
            "📂 Fold 3\n",
            "              precision    recall  f1-score   support\n",
            "\n",
            "        alto       0.95      0.98      0.96       106\n",
            "        bajo       0.99      0.96      0.98       107\n",
            "       medio       0.98      0.97      0.98       107\n",
            "\n",
            "    accuracy                           0.97       320\n",
            "   macro avg       0.97      0.97      0.97       320\n",
            "weighted avg       0.97      0.97      0.97       320\n",
            "\n",
            "\n",
            "📂 Fold 4\n",
            "              precision    recall  f1-score   support\n",
            "\n",
            "        alto       0.97      0.98      0.98       106\n",
            "        bajo       0.99      0.99      0.99       107\n",
            "       medio       0.98      0.97      0.98       107\n",
            "\n",
            "    accuracy                           0.98       320\n",
            "   macro avg       0.98      0.98      0.98       320\n",
            "weighted avg       0.98      0.98      0.98       320\n",
            "\n",
            "\n",
            "📂 Fold 5\n",
            "              precision    recall  f1-score   support\n",
            "\n",
            "        alto       0.99      0.97      0.98       106\n",
            "        bajo       0.98      1.00      0.99       107\n",
            "       medio       0.99      0.99      0.99       107\n",
            "\n",
            "    accuracy                           0.99       320\n",
            "   macro avg       0.99      0.99      0.99       320\n",
            "weighted avg       0.99      0.99      0.99       320\n",
            "\n",
            "\n",
            "🔍 Evaluación Final en Test:\n",
            "              precision    recall  f1-score   support\n",
            "\n",
            "        alto       0.97      0.97      0.97       133\n",
            "        bajo       0.97      0.96      0.97       133\n",
            "       medio       0.97      0.98      0.97       134\n",
            "\n",
            "    accuracy                           0.97       400\n",
            "   macro avg       0.97      0.97      0.97       400\n",
            "weighted avg       0.97      0.97      0.97       400\n",
            "\n"
          ]
        },
        {
          "output_type": "display_data",
          "data": {
            "text/plain": [
              "<IPython.core.display.HTML object>"
            ],
            "text/html": []
          },
          "metadata": {}
        },
        {
          "output_type": "display_data",
          "data": {
            "text/plain": [
              "<IPython.core.display.HTML object>"
            ],
            "text/html": [
              "<br>    <style><br>        .wandb-row {<br>            display: flex;<br>            flex-direction: row;<br>            flex-wrap: wrap;<br>            justify-content: flex-start;<br>            width: 100%;<br>        }<br>        .wandb-col {<br>            display: flex;<br>            flex-direction: column;<br>            flex-basis: 100%;<br>            flex: 1;<br>            padding: 10px;<br>        }<br>    </style><br><div class=\"wandb-row\"><div class=\"wandb-col\"><h3>Run history:</h3><br/><table class=\"wandb\"><tr><td>final_accuracy</td><td>▁</td></tr><tr><td>final_f1</td><td>▁</td></tr><tr><td>final_precision</td><td>▁</td></tr><tr><td>final_recall</td><td>▁</td></tr><tr><td>fold_1_accuracy</td><td>▁</td></tr><tr><td>fold_1_f1</td><td>▁</td></tr><tr><td>fold_1_precision</td><td>▁</td></tr><tr><td>fold_1_recall</td><td>▁</td></tr><tr><td>fold_2_accuracy</td><td>▁</td></tr><tr><td>fold_2_f1</td><td>▁</td></tr><tr><td>fold_2_precision</td><td>▁</td></tr><tr><td>fold_2_recall</td><td>▁</td></tr><tr><td>fold_3_accuracy</td><td>▁</td></tr><tr><td>fold_3_f1</td><td>▁</td></tr><tr><td>fold_3_precision</td><td>▁</td></tr><tr><td>fold_3_recall</td><td>▁</td></tr><tr><td>fold_4_accuracy</td><td>▁</td></tr><tr><td>fold_4_f1</td><td>▁</td></tr><tr><td>fold_4_precision</td><td>▁</td></tr><tr><td>fold_4_recall</td><td>▁</td></tr><tr><td>fold_5_accuracy</td><td>▁</td></tr><tr><td>fold_5_f1</td><td>▁</td></tr><tr><td>fold_5_precision</td><td>▁</td></tr><tr><td>fold_5_recall</td><td>▁</td></tr></table><br/></div><div class=\"wandb-col\"><h3>Run summary:</h3><br/><table class=\"wandb\"><tr><td>final_accuracy</td><td>0.97</td></tr><tr><td>final_f1</td><td>0.96999</td></tr><tr><td>final_precision</td><td>0.97</td></tr><tr><td>final_recall</td><td>0.97</td></tr><tr><td>fold_1_accuracy</td><td>0.98438</td></tr><tr><td>fold_1_f1</td><td>0.98436</td></tr><tr><td>fold_1_precision</td><td>0.98437</td></tr><tr><td>fold_1_recall</td><td>0.98438</td></tr><tr><td>fold_2_accuracy</td><td>0.975</td></tr><tr><td>fold_2_f1</td><td>0.97496</td></tr><tr><td>fold_2_precision</td><td>0.97552</td></tr><tr><td>fold_2_recall</td><td>0.975</td></tr><tr><td>fold_3_accuracy</td><td>0.97188</td></tr><tr><td>fold_3_f1</td><td>0.97196</td></tr><tr><td>fold_3_precision</td><td>0.97241</td></tr><tr><td>fold_3_recall</td><td>0.97188</td></tr><tr><td>fold_4_accuracy</td><td>0.98125</td></tr><tr><td>fold_4_f1</td><td>0.98125</td></tr><tr><td>fold_4_precision</td><td>0.98128</td></tr><tr><td>fold_4_recall</td><td>0.98125</td></tr><tr><td>fold_5_accuracy</td><td>0.9875</td></tr><tr><td>fold_5_f1</td><td>0.98747</td></tr><tr><td>fold_5_precision</td><td>0.98755</td></tr><tr><td>fold_5_recall</td><td>0.9875</td></tr></table><br/></div></div>"
            ]
          },
          "metadata": {}
        },
        {
          "output_type": "display_data",
          "data": {
            "text/plain": [
              "<IPython.core.display.HTML object>"
            ],
            "text/html": [
              " View run <strong style=\"color:#cdcd00\">RF_con_kfold</strong> at: <a href='https://wandb.ai/jifernandezsandar-ort/modelo_inmuebles/runs/3jurb7t8' target=\"_blank\">https://wandb.ai/jifernandezsandar-ort/modelo_inmuebles/runs/3jurb7t8</a><br> View project at: <a href='https://wandb.ai/jifernandezsandar-ort/modelo_inmuebles' target=\"_blank\">https://wandb.ai/jifernandezsandar-ort/modelo_inmuebles</a><br>Synced 5 W&B file(s), 1 media file(s), 2 artifact file(s) and 0 other file(s)"
            ]
          },
          "metadata": {}
        },
        {
          "output_type": "display_data",
          "data": {
            "text/plain": [
              "<IPython.core.display.HTML object>"
            ],
            "text/html": [
              "Find logs at: <code>./wandb/run-20250706_132805-3jurb7t8/logs</code>"
            ]
          },
          "metadata": {}
        }
      ]
    },
    {
      "cell_type": "code",
      "source": [],
      "metadata": {
        "id": "Pr9Q3h60ABWY"
      },
      "execution_count": null,
      "outputs": []
    },
    {
      "cell_type": "code",
      "source": [],
      "metadata": {
        "id": "Ster26FNABY9"
      },
      "execution_count": null,
      "outputs": []
    },
    {
      "cell_type": "code",
      "source": [],
      "metadata": {
        "id": "b8eWJ38m6ypz"
      },
      "execution_count": null,
      "outputs": []
    }
  ]
}